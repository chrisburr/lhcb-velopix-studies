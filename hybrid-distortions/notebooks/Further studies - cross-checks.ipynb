{
 "cells": [
  {
   "cell_type": "code",
   "execution_count": 1,
   "metadata": {
    "collapsed": true
   },
   "outputs": [],
   "source": [
    "%matplotlib inline\n",
    "%config InlineBackend.figure_format = 'retina'"
   ]
  },
  {
   "cell_type": "code",
   "execution_count": 2,
   "metadata": {
    "collapsed": true
   },
   "outputs": [],
   "source": [
    "from collections import defaultdict\n",
    "from itertools import product\n",
    "from functools import wraps\n",
    "import json\n",
    "import re\n",
    "import os\n",
    "from os.path import isdir, join"
   ]
  },
  {
   "cell_type": "code",
   "execution_count": 3,
   "metadata": {
    "collapsed": false
   },
   "outputs": [],
   "source": [
    "from tqdm import tqdm_notebook\n",
    "from matplotlib import pyplot as plt\n",
    "from joblib import delayed, Parallel\n",
    "import pandas as pd\n",
    "import numpy as np\n",
    "import seaborn as sns\n",
    "import matplotlib_pretty_tex as pgf"
   ]
  },
  {
   "cell_type": "code",
   "execution_count": 4,
   "metadata": {
    "collapsed": false
   },
   "outputs": [],
   "source": [
    "import utils\n",
    "sns.set_context('paper', font_scale=1.4, rc={'legend.frameon': True})"
   ]
  },
  {
   "cell_type": "code",
   "execution_count": 5,
   "metadata": {
    "collapsed": false,
    "scrolled": false
   },
   "outputs": [
    {
     "name": "stdout",
     "output_type": "stream",
     "text": [
      "Found output/scenarios/tip_x=0um_y=+500um/residuals_0.msg\n",
      "FoundFoundFound  output/scenarios/tip_x=0um_y=+500um/particles_0.msgoutput/scenarios/tip_x=0um_y=+500um/tracks_0.msg\n",
      "\n",
      " output/scenarios/tip_x=0um_y=+500um/clusters_0.msg\n",
      "Skipping output/scenarios/tip_x=0um_y=+500um/particles_1.msg\n",
      "Skipping output/scenarios/tip_x=0um_y=+500um/particles_2.msg\n",
      "Skipping output/scenarios/tip_x=0um_y=+500um/particles_3.msg\n",
      "Skipping output/scenarios/tip_x=0um_y=+500um/particles_4.msg\n",
      "Skipping output/scenarios/tip_x=0um_y=+500um/particles_5.msg\n",
      "Skipping output/scenarios/tip_x=0um_y=+500um/particles_6.msg\n",
      "Found output/scenarios/tip_x=0um_y=+500um/particles_7.msg\n",
      "Skipping output/scenarios/tip_x=0um_y=+500um/particles_8.msg\n",
      "Found output/scenarios/tip_x=0um_y=+500um/particles_9.msg\n",
      "Found output/scenarios/Original_DB/particles_0.msg\n",
      "Skipping output/scenarios/Original_DB/particles_1.msg\n",
      "Found output/scenarios/Original_DB/particles_2.msg\n",
      "Skipping output/scenarios/Original_DB/particles_3.msg\n",
      "Skipping output/scenarios/Original_DB/particles_4.msg\n",
      "Skipping output/scenarios/Original_DB/particles_5.msg\n",
      "Skipping output/scenarios/Original_DB/particles_6.msg\n",
      "Found output/scenarios/Original_DB/particles_7.msg\n",
      "Skipping output/scenarios/tip_x=0um_y=+500um/tracks_1.msg\n",
      "Skipping output/scenarios/tip_x=0um_y=+500um/tracks_2.msg\n",
      "Skipping output/scenarios/tip_x=0um_y=+500um/tracks_3.msg\n",
      "Skipping output/scenarios/tip_x=0um_y=+500um/tracks_4.msg\n",
      "Skipping output/scenarios/tip_x=0um_y=+500um/tracks_5.msg\n",
      "Skipping output/scenarios/tip_x=0um_y=+500um/tracks_6.msg\n",
      "Found output/scenarios/tip_x=0um_y=+500um/tracks_7.msg\n",
      "Skipping output/scenarios/tip_x=0um_y=+500um/tracks_8.msg\n",
      "Found output/scenarios/tip_x=0um_y=+500um/tracks_9.msg\n",
      "Found output/scenarios/Original_DB/tracks_0.msg\n",
      "Skipping output/scenarios/Original_DB/tracks_1.msg\n",
      "Found output/scenarios/Original_DB/tracks_2.msg\n",
      "Skipping output/scenarios/tip_x=0um_y=+500um/clusters_1.msg\n",
      "Skipping output/scenarios/tip_x=0um_y=+500um/clusters_2.msg\n",
      "Skipping output/scenarios/tip_x=0um_y=+500um/clusters_3.msg\n",
      "Skipping output/scenarios/tip_x=0um_y=+500um/clusters_4.msg\n",
      "Skipping output/scenarios/tip_x=0um_y=+500um/clusters_5.msg\n",
      "Skipping output/scenarios/tip_x=0um_y=+500um/clusters_6.msg\n",
      "Found output/scenarios/tip_x=0um_y=+500um/clusters_7.msg\n",
      "Skipping output/scenarios/tip_x=0um_y=+500um/clusters_8.msg\n",
      "Found output/scenarios/tip_x=0um_y=+500um/clusters_9.msg\n",
      "Found output/scenarios/Original_DB/clusters_0.msg\n",
      "Skipping output/scenarios/Original_DB/particles_8.msg\n",
      "Found output/scenarios/Original_DB/particles_9.msg\n",
      "Skipping output/scenarios/Original_DB/clusters_1.msg\n",
      "Found output/scenarios/Original_DB/clusters_2.msg\n",
      "Skipping output/scenarios/tip_x=0um_y=+500um/residuals_1.msg\n",
      "Skipping output/scenarios/tip_x=0um_y=+500um/residuals_2.msg\n",
      "Skipping output/scenarios/tip_x=0um_y=+500um/residuals_3.msg\n",
      "Skipping output/scenarios/tip_x=0um_y=+500um/residuals_4.msg\n",
      "Skipping output/scenarios/tip_x=0um_y=+500um/residuals_5.msg\n",
      "Skipping output/scenarios/tip_x=0um_y=+500um/residuals_6.msg\n",
      "Found output/scenarios/tip_x=0um_y=+500um/residuals_7.msg\n",
      "Skipping output/scenarios/tip_x=0um_y=+500um/residuals_8.msg\n",
      "Found output/scenarios/tip_x=0um_y=+500um/residuals_9.msg\n",
      "Found output/scenarios/tip_x=0um_y=-500um/particles_0.msg\n",
      "Found output/scenarios/Original_DB/residuals_0.msg\n",
      "Skipping output/scenarios/Original_DB/tracks_3.msg\n",
      "Skipping output/scenarios/Original_DB/tracks_4.msg\n",
      "Skipping output/scenarios/Original_DB/tracks_5.msg\n",
      "Skipping output/scenarios/Original_DB/tracks_6.msg\n",
      "Found output/scenarios/Original_DB/tracks_7.msg\n",
      "Skipping output/scenarios/tip_x=0um_y=-500um/particles_1.msg\n",
      "Skipping output/scenarios/tip_x=0um_y=-500um/particles_2.msg\n",
      "Skipping output/scenarios/tip_x=0um_y=-500um/particles_3.msg\n",
      "Skipping output/scenarios/tip_x=0um_y=-500um/particles_4.msg\n",
      "Skipping output/scenarios/tip_x=0um_y=-500um/particles_5.msg\n",
      "Skipping output/scenarios/tip_x=0um_y=-500um/particles_6.msg\n",
      "Found output/scenarios/tip_x=0um_y=-500um/particles_7.msg\n",
      "Skipping output/scenarios/tip_x=0um_y=-500um/particles_8.msg\n",
      "Found output/scenarios/tip_x=0um_y=-500um/particles_9.msg\n",
      "Skipping output/scenarios/Original_DB/residuals_1.msg\n",
      "Found output/scenarios/Original_DB/residuals_2.msg\n",
      "Skipping output/scenarios/Original_DB/clusters_3.msg\n",
      "Skipping output/scenarios/Original_DB/clusters_4.msg\n",
      "Skipping output/scenarios/Original_DB/clusters_5.msg\n",
      "Skipping output/scenarios/Original_DB/clusters_6.msg\n",
      "Found output/scenarios/Original_DB/clusters_7.msg\n",
      "Skipping output/scenarios/Original_DB/tracks_8.msg\n",
      "Found output/scenarios/Original_DB/tracks_9.msg\n",
      "Skipping output/scenarios/Original_DB/clusters_8.msg\n",
      "Found output/scenarios/Original_DB/clusters_9.msg\n",
      "Found output/scenarios/tip_x=0um_y=-500um/clusters_0.msg\n",
      "Found output/scenarios/tip_x=0um_y=-500um/tracks_0.msg\n",
      "Skipping output/scenarios/tip_x=0um_y=-500um/tracks_1.msg\n",
      "Skipping output/scenarios/tip_x=0um_y=-500um/tracks_2.msg\n",
      "Skipping output/scenarios/tip_x=0um_y=-500um/tracks_3.msg\n",
      "Skipping output/scenarios/tip_x=0um_y=-500um/tracks_4.msg\n",
      "Skipping output/scenarios/tip_x=0um_y=-500um/tracks_5.msg\n",
      "Skipping output/scenarios/tip_x=0um_y=-500um/tracks_6.msg\n",
      "Found output/scenarios/tip_x=0um_y=-500um/tracks_7.msg\n",
      "Skipping output/scenarios/tip_x=0um_y=-500um/clusters_1.msg\n",
      "Skipping output/scenarios/tip_x=0um_y=-500um/clusters_2.msg\n",
      "Skipping output/scenarios/tip_x=0um_y=-500um/clusters_3.msg\n",
      "Skipping output/scenarios/tip_x=0um_y=-500um/clusters_4.msg\n",
      "Skipping output/scenarios/tip_x=0um_y=-500um/clusters_5.msg\n",
      "Skipping output/scenarios/tip_x=0um_y=-500um/clusters_6.msg\n",
      "Found output/scenarios/tip_x=0um_y=-500um/clusters_7.msg\n",
      "Skipping output/scenarios/tip_x=0um_y=-500um/tracks_8.msg\n",
      "Found output/scenarios/tip_x=0um_y=-500um/tracks_9.msg\n",
      "Skipping output/scenarios/Original_DB/residuals_3.msg\n",
      "Skipping output/scenarios/Original_DB/residuals_4.msg\n",
      "Skipping output/scenarios/Original_DB/residuals_5.msg\n",
      "Skipping output/scenarios/Original_DB/residuals_6.msg\n",
      "Found output/scenarios/Original_DB/residuals_7.msg\n",
      "Skipping output/scenarios/tip_x=0um_y=-500um/clusters_8.msg\n",
      "Found output/scenarios/tip_x=0um_y=-500um/clusters_9.msg\n",
      "Skipping output/scenarios/Original_DB/residuals_8.msg\n",
      "Found output/scenarios/Original_DB/residuals_9.msg\n",
      "Found output/scenarios/tip_x=0um_y=-500um/residuals_0.msg\n",
      "Skipping output/scenarios/tip_x=0um_y=-500um/residuals_1.msg\n",
      "Skipping output/scenarios/tip_x=0um_y=-500um/residuals_2.msg\n",
      "Skipping output/scenarios/tip_x=0um_y=-500um/residuals_3.msg\n",
      "Skipping output/scenarios/tip_x=0um_y=-500um/residuals_4.msg\n",
      "Skipping output/scenarios/tip_x=0um_y=-500um/residuals_5.msg\n",
      "Skipping output/scenarios/tip_x=0um_y=-500um/residuals_6.msg\n",
      "Found output/scenarios/tip_x=0um_y=-500um/residuals_7.msg\n",
      "Skipping output/scenarios/tip_x=0um_y=-500um/residuals_8.msg\n",
      "Found output/scenarios/tip_x=0um_y=-500um/residuals_9.msg\n"
     ]
    }
   ],
   "source": [
    "out_dir = join('output/further_studies/cross_checks')\n",
    "scenarios = ['tip_x=0um_y=+500um', 'Original_DB', 'tip_x=0um_y=-500um']\n",
    "if not isdir(out_dir):\n",
    "    os.makedirs(out_dir)\n",
    "clusters, tracks, residuals, particles = utils.load(scenarios, fast=False)\n",
    "scenarios = list(particles.scenario.cat.categories.values)"
   ]
  },
  {
   "cell_type": "code",
   "execution_count": 6,
   "metadata": {
    "collapsed": false
   },
   "outputs": [],
   "source": [
    "sigma = {\n",
    "    0.5: 0.382924922548026,\n",
    "    1: 0.682689492137086,\n",
    "    2: 0.954499736103642,\n",
    "    3: 0.997300203936740\n",
    "}\n",
    "bins = np.linspace(-0.2, 0.2, 100)\n",
    "sns.set_palette(sns.color_palette('colorblind', len(scenarios)))\n",
    "sns.set_style('whitegrid')"
   ]
  },
  {
   "cell_type": "code",
   "execution_count": 7,
   "metadata": {
    "collapsed": false
   },
   "outputs": [],
   "source": [
    "_clusters = clusters.set_index(['run_number', 'event_number', 'channel_id'])\n",
    "_clusters.query('channel_id >= 0', inplace=True)"
   ]
  },
  {
   "cell_type": "code",
   "execution_count": 9,
   "metadata": {
    "collapsed": false
   },
   "outputs": [],
   "source": [
    "c = {k: v.drop('scenario', axis=1) for k, v in _clusters.groupby('scenario')}\n",
    "_c = {}\n",
    "for s in c:\n",
    "    if s == 'Original_DB':\n",
    "        continue\n",
    "    _c[s] = c[s].join(c['Original_DB'], rsuffix='_true', how='inner')"
   ]
  },
  {
   "cell_type": "code",
   "execution_count": 11,
   "metadata": {
    "collapsed": false
   },
   "outputs": [
    {
     "data": {
      "text/plain": [
       "dict_keys(['tip_x=0um_y=+500um', 'tip_x=0um_y=-500um'])"
      ]
     },
     "execution_count": 11,
     "metadata": {},
     "output_type": "execute_result"
    }
   ],
   "source": [
    "_c.keys()"
   ]
  },
  {
   "cell_type": "code",
   "execution_count": 17,
   "metadata": {
    "collapsed": false
   },
   "outputs": [
    {
     "data": {
      "text/plain": [
       "<matplotlib.text.Text at 0x7ff677ee1f28>"
      ]
     },
     "execution_count": 17,
     "metadata": {},
     "output_type": "execute_result"
    },
    {
     "data": {
      "image/png": "[encoded data removed]",
      "text/plain": [
       "<matplotlib.figure.Figure at 0x7ff677ec0400>"
      ]
     },
     "metadata": {
      "image/png": {
       "height": 285,
       "width": 408
      }
     },
     "output_type": "display_data"
    }
   ],
   "source": [
    "for k in _c:\n",
    "    _c[k].eval('1000*(x - x_true)').hist(\n",
    "        bins=np.linspace(-10, 10, 1000), histtype='step',\n",
    "        lw=1, label=utils.format_label(k))\n",
    "plt.legend(loc='best')\n",
    "plt.xlabel('x - x_true [μm]')"
   ]
  },
  {
   "cell_type": "code",
   "execution_count": null,
   "metadata": {
    "collapsed": false
   },
   "outputs": [],
   "source": [
    "_c['tip_x=0um_y=-1000um'].eval('y - y_true').unique(), _c['tip_x=0um_y=+1000um'].eval('y - y_true').unique()"
   ]
  },
  {
   "cell_type": "code",
   "execution_count": null,
   "metadata": {
    "collapsed": false
   },
   "outputs": [],
   "source": [
    "_c['tip_x=0um_y=-1000um'].eval('z - z_true').hist(bins=np.linspace(-0.5, 0.5, 100))\n",
    "_c['tip_x=0um_y=+1000um'].eval('z - z_true').hist(bins=np.linspace(-0.5, 0.5, 100))"
   ]
  },
  {
   "cell_type": "code",
   "execution_count": null,
   "metadata": {
    "collapsed": false
   },
   "outputs": [],
   "source": [
    "_c['tip_x=0um_y=-1000um'].eval('z - z_true').hist(bins=np.linspace(-0.5, 0.5, 100))\n",
    "_c['tip_x=0um_y=+1000um'].eval('z - z_true').hist(bins=np.linspace(-0.5, 0.5, 100))"
   ]
  },
  {
   "cell_type": "code",
   "execution_count": null,
   "metadata": {
    "collapsed": false
   },
   "outputs": [],
   "source": [
    "_ = plt.hist2d(\n",
    "    _c['tip_x=0um_y=+1000um'].eval('x - x_true'),\n",
    "    _c['tip_x=0um_y=+1000um'].eval('z - z_true'),\n",
    "    bins=[np.linspace(-0.01, 0.01, 100), np.linspace(-0.5, 0.5, 100)]\n",
    ")"
   ]
  },
  {
   "cell_type": "code",
   "execution_count": null,
   "metadata": {
    "collapsed": false
   },
   "outputs": [],
   "source": [
    "_ = plt.hist2d(\n",
    "    _c['tip_x=0um_y=+1000um'].eval('x'),\n",
    "    _c['tip_x=0um_y=+1000um'].eval('z - z_true'),\n",
    "    bins=[np.linspace(-50, 50, 100), np.linspace(-0.5, 0.5, 100)]\n",
    ")"
   ]
  },
  {
   "cell_type": "code",
   "execution_count": null,
   "metadata": {
    "collapsed": false
   },
   "outputs": [],
   "source": [
    "_ = plt.hist2d(\n",
    "    _c['tip_x=0um_y=+1000um'].eval('y'),\n",
    "    _c['tip_x=0um_y=+1000um'].eval('z - z_true'),\n",
    "    bins=[np.linspace(-50, 50, 100), np.linspace(-0.5, 0.5, 100)]\n",
    ")"
   ]
  },
  {
   "cell_type": "code",
   "execution_count": null,
   "metadata": {
    "collapsed": false
   },
   "outputs": [],
   "source": [
    "_ = plt.hist2d(\n",
    "    _c['tip_x=0um_y=+1000um'].eval('x'),\n",
    "    _c['tip_x=0um_y=+1000um'].eval('y'),\n",
    "    bins=[np.linspace(-50, 50, 100), np.linspace(-50, 50, 100)]\n",
    ")"
   ]
  },
  {
   "cell_type": "code",
   "execution_count": null,
   "metadata": {
    "collapsed": true
   },
   "outputs": [],
   "source": []
  },
  {
   "cell_type": "code",
   "execution_count": null,
   "metadata": {
    "collapsed": false
   },
   "outputs": [],
   "source": [
    "_ = plt.hist2d(\n",
    "    _c['tip_x=0um_y=-1000um'].eval('x - x_true'),\n",
    "    _c['tip_x=0um_y=-1000um'].eval('z - z_true'),\n",
    "    bins=[np.linspace(-0.01, 0.01, 100), np.linspace(-0.5, 0.5, 100)]\n",
    ")"
   ]
  },
  {
   "cell_type": "code",
   "execution_count": null,
   "metadata": {
    "collapsed": false
   },
   "outputs": [],
   "source": [
    "_ = plt.hist2d(\n",
    "    _c['tip_x=0um_y=-1000um'].query('x < 0').eval('x - x_true'),\n",
    "    _c['tip_x=0um_y=-1000um'].query('x < 0').eval('z - z_true'),\n",
    "    bins=[np.linspace(-0.01, 0.01, 100), np.linspace(-0.5, 0.5, 100)]\n",
    ")"
   ]
  },
  {
   "cell_type": "markdown",
   "metadata": {},
   "source": [
    "## How does the track desnsity look both close to and far from the PV"
   ]
  },
  {
   "cell_type": "code",
   "execution_count": null,
   "metadata": {
    "collapsed": false
   },
   "outputs": [],
   "source": [
    "df = residuals['Original_DB']\n",
    "_bins = np.linspace(-50, 50, 100)\n",
    "df.query('(sensor >= 10*4+2) & (sensor < (10+1)*4)').intercept_x.hist(histtype='step', lw=1, bins=_bins, label='Module 10')\n",
    "df.query('(sensor >= 11*4+2) & (sensor < (11+1)*4)').intercept_x.hist(histtype='step', lw=1, bins=_bins, label='Module 11')\n",
    "df.query('(sensor >= 50*4+2) & (sensor < (50+1)*4)').intercept_x.hist(histtype='step', lw=1, bins=_bins, label='Module 50')\n",
    "df.query('(sensor >= 51*4+2) & (sensor < (51+1)*4)').intercept_x.hist(histtype='step', lw=1, bins=_bins, label='Module 51')\n",
    "plt.legend(loc='best')\n",
    "plt.xlim(min(_bins), max(_bins))\n",
    "plt.xlabel('LHCb x [mm]')\n",
    "plt.title('Ladder 2 and 3')"
   ]
  },
  {
   "cell_type": "code",
   "execution_count": null,
   "metadata": {
    "collapsed": false
   },
   "outputs": [],
   "source": [
    "df = residuals['Original_DB']\n",
    "_bins = np.linspace(-25, 25, 100)\n",
    "df.query('(sensor >= 16*4) & (sensor < (16+1)*4-2)').intercept_x.hist(histtype='step', lw=1, bins=_bins, label='Module 16')\n",
    "df.query('(sensor >= 17*4) & (sensor < (17+1)*4-2)').intercept_x.hist(histtype='step', lw=1, bins=_bins, label='Module 17')\n",
    "df.query('(sensor >= 50*4) & (sensor < (50+1)*4-2)').intercept_x.hist(histtype='step', lw=1, bins=_bins, label='Module 50')\n",
    "df.query('(sensor >= 51*4) & (sensor < (51+1)*4-2)').intercept_x.hist(histtype='step', lw=1, bins=_bins, label='Module 51')\n",
    "plt.legend(loc='best')\n",
    "plt.xlim(min(_bins), max(_bins))\n",
    "plt.xlabel('LHCb x [mm]')\n",
    "plt.title('Ladder 0 and 1')"
   ]
  },
  {
   "cell_type": "code",
   "execution_count": null,
   "metadata": {
    "collapsed": false
   },
   "outputs": [],
   "source": [
    "df = residuals['Original_DB']\n",
    "_bins = np.linspace(-50, 50, 100)\n",
    "df.query('(sensor >= 10*4+2) & (sensor < (10+1)*4)').intercept_y.hist(histtype='step', lw=1, bins=_bins, label='Module 10')\n",
    "df.query('(sensor >= 11*4+2) & (sensor < (11+1)*4)').intercept_y.hist(histtype='step', lw=1, bins=_bins, label='Module 11')\n",
    "df.query('(sensor >= 50*4+2) & (sensor < (50+1)*4)').intercept_y.hist(histtype='step', lw=1, bins=_bins, label='Module 50')\n",
    "df.query('(sensor >= 51*4+2) & (sensor < (51+1)*4)').intercept_y.hist(histtype='step', lw=1, bins=_bins, label='Module 51')\n",
    "plt.legend(loc='best')\n",
    "plt.xlim(min(_bins), max(_bins))\n",
    "plt.xlabel('LHCb y [mm]')\n",
    "plt.title('Ladder 2 and 3')"
   ]
  },
  {
   "cell_type": "code",
   "execution_count": null,
   "metadata": {
    "collapsed": false
   },
   "outputs": [],
   "source": [
    "df = residuals['Original_DB']\n",
    "_bins = np.linspace(-25, 25, 100)\n",
    "df.query('(sensor >= 16*4) & (sensor < (16+1)*4-2)').intercept_y.hist(histtype='step', lw=1, bins=_bins, label='Module 16')\n",
    "df.query('(sensor >= 17*4) & (sensor < (17+1)*4-2)').intercept_y.hist(histtype='step', lw=1, bins=_bins, label='Module 17')\n",
    "df.query('(sensor >= 50*4) & (sensor < (50+1)*4-2)').intercept_y.hist(histtype='step', lw=1, bins=_bins, label='Module 50')\n",
    "df.query('(sensor >= 51*4) & (sensor < (51+1)*4-2)').intercept_y.hist(histtype='step', lw=1, bins=_bins, label='Module 51')\n",
    "plt.legend(loc='best')\n",
    "plt.xlim(min(_bins), max(_bins))\n",
    "plt.xlabel('LHCb y [mm]')\n",
    "plt.title('Ladder 0 and 1')"
   ]
  },
  {
   "cell_type": "markdown",
   "metadata": {},
   "source": [
    "# Cross-checks"
   ]
  },
  {
   "cell_type": "markdown",
   "metadata": {},
   "source": [
    "## Cluster residual $x$"
   ]
  },
  {
   "cell_type": "code",
   "execution_count": null,
   "metadata": {
    "collapsed": false
   },
   "outputs": [],
   "source": [
    "_bins = np.linspace(-0.0025, 0.0025, 1000)\n",
    "plt.figure(figsize=[9,6])\n",
    "for s in residuals:\n",
    "    residuals[s].eval('intercept_x - true_intercept_x').hist(bins=_bins, histtype='step', lw=1, label=utils.format_label(s))\n",
    "plt.legend(loc='best')"
   ]
  },
  {
   "cell_type": "markdown",
   "metadata": {},
   "source": [
    "## Cluster residual $y$"
   ]
  },
  {
   "cell_type": "code",
   "execution_count": null,
   "metadata": {
    "collapsed": false
   },
   "outputs": [],
   "source": [
    "_bins = np.linspace(-0.0025, 0.0025, 1000)\n",
    "plt.figure(figsize=[9,6])\n",
    "for s in residuals:\n",
    "    residuals[s].eval('intercept_y - true_intercept_y').hist(bins=_bins, histtype='step', lw=1, label=utils.format_label(s))\n",
    "plt.legend(loc='best')"
   ]
  },
  {
   "cell_type": "markdown",
   "metadata": {},
   "source": [
    "## Cluster residual $z$"
   ]
  },
  {
   "cell_type": "code",
   "execution_count": null,
   "metadata": {
    "collapsed": false
   },
   "outputs": [],
   "source": [
    "_bins = np.linspace(-0.5, 0.5, 1000)\n",
    "plt.figure(figsize=[9,6])\n",
    "for s in residuals:\n",
    "    residuals[s].eval('intercept_z - true_intercept_z').hist(bins=_bins, histtype='step', lw=1, label=utils.format_label(s))\n",
    "plt.legend(loc='best')"
   ]
  },
  {
   "cell_type": "code",
   "execution_count": null,
   "metadata": {
    "collapsed": true
   },
   "outputs": [],
   "source": [
    "def plot_cluster_residual(var, selection=lambda s: True):\n",
    "    _bins = np.linspace(-0.5, 0.5, 1000)\n",
    "    with sns.color_palette('colorblind', 6):\n",
    "        plt.figure(figsize=[9, 6], dpi=200)\n",
    "        ls = ['-', '--', 'dotted']\n",
    "        alpha = [1, 0.75, 0.5]\n",
    "        for i, s in enumerate(filter(selection, residuals), start=1):\n",
    "            residuals[s].eval(f'{var} - true_{var}').hist(\n",
    "                bins=_bins, histtype='step', lw=1, alpha=alpha[int(i/6)], ls=ls[int(i/6)], label=utils.format_label(s))\n",
    "        plt.legend(loc='best')\n",
    "    plt.xlim(_bins[0], _bins[-1])\n",
    "    plt.xlabel(f'{var} [mm]')"
   ]
  },
  {
   "cell_type": "markdown",
   "metadata": {},
   "source": [
    "## Cluster residual for \"all same\" distortions"
   ]
  },
  {
   "cell_type": "code",
   "execution_count": null,
   "metadata": {
    "collapsed": false
   },
   "outputs": [],
   "source": [
    "plot_cluster_residual('intercept_z', selection=lambda s: 'sigma' not in s and 'Original' not in s)"
   ]
  },
  {
   "cell_type": "markdown",
   "metadata": {},
   "source": [
    "## Cluster residual for random distortions"
   ]
  },
  {
   "cell_type": "code",
   "execution_count": null,
   "metadata": {
    "collapsed": false
   },
   "outputs": [],
   "source": [
    "plot_cluster_residual('intercept_z', selection=lambda s: 'sigma' in s and 'Original' not in s)\n",
    "plt.text(-0.45, plt.ylim()[1]*0.8, 'The yellow spike is M26...')\n",
    "plt.text(-0.3, plt.ylim()[1]*0.75, '...it wanted to be near zero')"
   ]
  },
  {
   "cell_type": "code",
   "execution_count": null,
   "metadata": {
    "collapsed": false
   },
   "outputs": [],
   "source": [
    "_bins = np.linspace(-0.001, 0.001, 100)\n",
    "d = residuals['tip_x=0um_y=+250um_sigma=0.5']\n",
    "ls = ['-', '--', 'dotted', 'dashdot', ':']\n",
    "ls += ls\n",
    "plt.figure(figsize=[9,6])\n",
    "for i, df in d.groupby('module'):\n",
    "    if i not in [26]:\n",
    "        continue\n",
    "    df.eval('intercept_z - true_intercept_z').hist(\n",
    "        bins=_bins, histtype='step', lw=1, ls=ls[int(i/6)], label=str(i))\n",
    "plt.legend(loc='best')"
   ]
  },
  {
   "cell_type": "markdown",
   "metadata": {},
   "source": [
    "## Cluster residual for $250\\mu m$ distortions"
   ]
  },
  {
   "cell_type": "code",
   "execution_count": null,
   "metadata": {
    "collapsed": false
   },
   "outputs": [],
   "source": [
    "plot_cluster_residual('intercept_z', selection=lambda s: '250' in s and 'Original' not in s)"
   ]
  },
  {
   "cell_type": "markdown",
   "metadata": {},
   "source": [
    "## Cluster residual for $500\\mu m$ distortions"
   ]
  },
  {
   "cell_type": "code",
   "execution_count": null,
   "metadata": {
    "collapsed": false
   },
   "outputs": [],
   "source": [
    "plot_cluster_residual('intercept_z', selection=lambda s: '500' in s and 'Original' not in s)"
   ]
  },
  {
   "cell_type": "markdown",
   "metadata": {},
   "source": [
    "## Cluster residual for $1000\\mu m$ distortions"
   ]
  },
  {
   "cell_type": "code",
   "execution_count": null,
   "metadata": {
    "collapsed": false
   },
   "outputs": [],
   "source": [
    "plot_cluster_residual('intercept_z', selection=lambda s: '1000' in s and 'Original' not in s)"
   ]
  },
  {
   "cell_type": "markdown",
   "metadata": {},
   "source": [
    "## TODO"
   ]
  },
  {
   "cell_type": "code",
   "execution_count": null,
   "metadata": {
    "collapsed": false
   },
   "outputs": [],
   "source": [
    "df = tracks.query('(track_type == \"Long\") & (scenario == \"tip_x=0um_y=+1000um\")').dropna()\n",
    "df.head()"
   ]
  },
  {
   "cell_type": "code",
   "execution_count": null,
   "metadata": {
    "collapsed": false
   },
   "outputs": [],
   "source": [
    "_bins = np.linspace(-0.1, 0.1, 100)\n",
    "plt.figure(figsize=[9,6])\n",
    "df.eval('100*(tx - true_px/true_pz)').hist(bins=_bins, histtype='step', lw=1, label='tx')\n",
    "df.eval('100*(ty - true_py/true_pz)').hist(bins=_bins, histtype='step', lw=1, label='ty')\n",
    "plt.legend(loc='best')\n",
    "plt.xlim(min(_bins), max(_bins))\n",
    "plt.xlabel('Slope residual [%]')"
   ]
  },
  {
   "cell_type": "code",
   "execution_count": null,
   "metadata": {
    "collapsed": false
   },
   "outputs": [],
   "source": [
    "df.tx.hist(bins=np.linspace(-0.5, 0.5, 100))"
   ]
  },
  {
   "cell_type": "markdown",
   "metadata": {},
   "source": [
    "## Slope x residual as a function of slope"
   ]
  },
  {
   "cell_type": "code",
   "execution_count": null,
   "metadata": {
    "collapsed": false
   },
   "outputs": [],
   "source": [
    "_bins = np.linspace(-0.5, 0.5, 200)\n",
    "plt.figure(figsize=[9,6])\n",
    "for scenario in ['tip_x=0um_y=+1000um', 'Original_DB', 'tip_x=0um_y=-1000um']:\n",
    "    df2 = tracks.query(f'(track_type == \"Long\") & (scenario == \"{scenario}\")').dropna()\n",
    "    _df = df2.query('abs(true_px/true_pz) < 0.1')\n",
    "    _df.eval('100*(tx - true_px/true_pz)').hist(bins=_bins, histtype='step', lw=1, label=f'{scenario} - tx < 0.1', normed=True)\n",
    "plt.legend(loc='best')\n",
    "plt.xlim(min(_bins), max(_bins))\n",
    "plt.xlabel('Slope residual [%]')"
   ]
  },
  {
   "cell_type": "code",
   "execution_count": null,
   "metadata": {
    "collapsed": false,
    "scrolled": true
   },
   "outputs": [],
   "source": [
    "_bins = np.linspace(-0.5, 0.5, 200)\n",
    "plt.figure(figsize=[9,6])\n",
    "for scenario in ['tip_x=0um_y=+1000um', 'Original_DB', 'tip_x=0um_y=-1000um']:\n",
    "    df2 = tracks.query(f'(track_type == \"Long\") & (scenario == \"{scenario}\")').dropna()\n",
    "    _df = df2.query('abs(true_px/true_pz) > 0.1')\n",
    "    _df.eval('100*(tx - true_px/true_pz)').hist(bins=_bins, histtype='step', lw=1, label=f'{scenario} - tx > 0.1', normed=True)\n",
    "plt.legend(loc='best')\n",
    "plt.xlim(min(_bins), max(_bins))\n",
    "plt.xlabel('Slope residual [%]')"
   ]
  },
  {
   "cell_type": "code",
   "execution_count": null,
   "metadata": {
    "collapsed": false
   },
   "outputs": [],
   "source": [
    "_bins = np.linspace(-1, 1, 100)\n",
    "plt.figure(figsize=[9,6])\n",
    "for scenario in ['tip_x=0um_y=+1000um', 'Original_DB', 'tip_x=0um_y=-1000um']:\n",
    "    df2 = tracks.query(f'(track_type == \"Long\") & (scenario == \"{scenario}\")').dropna()\n",
    "    _df = df2.query('abs(true_px/true_pz) > 0.2')\n",
    "    _df.eval('100*(tx - true_px/true_pz)').hist(bins=_bins, histtype='step', lw=1, label=f'{scenario} - tx > 0.2', normed=True)\n",
    "plt.legend(loc='best')\n",
    "plt.xlim(min(_bins), max(_bins))\n",
    "plt.xlabel('Slope residual [%]')"
   ]
  },
  {
   "cell_type": "markdown",
   "metadata": {},
   "source": [
    "## Slope y residual as a function of slope"
   ]
  },
  {
   "cell_type": "code",
   "execution_count": null,
   "metadata": {
    "collapsed": false
   },
   "outputs": [],
   "source": [
    "_bins = np.linspace(-0.5, 0.5, 200)\n",
    "plt.figure(figsize=[9,6])\n",
    "for scenario in ['tip_x=0um_y=+1000um', 'Original_DB', 'tip_x=0um_y=-1000um']:\n",
    "    df2 = tracks.query(f'(track_type == \"Long\") & (scenario == \"{scenario}\")').dropna()\n",
    "    _df = df2.query('abs(true_py/true_pz) < 0.1')\n",
    "    _df.eval('100*(ty - true_py/true_pz)').hist(bins=_bins, histtype='step', lw=1, label=f'{scenario} - ty < 0.1', normed=True)\n",
    "plt.legend(loc='best')\n",
    "plt.xlim(min(_bins), max(_bins))\n",
    "plt.xlabel('Slope residual [%]')"
   ]
  },
  {
   "cell_type": "code",
   "execution_count": null,
   "metadata": {
    "collapsed": false,
    "scrolled": true
   },
   "outputs": [],
   "source": [
    "_bins = np.linspace(-0.5, 0.5, 200)\n",
    "plt.figure(figsize=[9,6])\n",
    "for scenario in ['tip_x=0um_y=+1000um', 'Original_DB', 'tip_x=0um_y=-1000um']:\n",
    "    df2 = tracks.query(f'(track_type == \"Long\") & (scenario == \"{scenario}\")').dropna()\n",
    "    _df = df2.query('abs(true_py/true_pz) > 0.1')\n",
    "    _df.eval('100*(ty - true_py/true_pz)').hist(bins=_bins, histtype='step', lw=1, label=f'{scenario} - ty > 0.1', normed=True)\n",
    "plt.legend(loc='best')\n",
    "plt.xlim(min(_bins), max(_bins))\n",
    "plt.xlabel('Slope residual [%]')"
   ]
  },
  {
   "cell_type": "code",
   "execution_count": null,
   "metadata": {
    "collapsed": false
   },
   "outputs": [],
   "source": [
    "_bins = np.linspace(-1, 1, 100)\n",
    "plt.figure(figsize=[9,6])\n",
    "for scenario in ['tip_x=0um_y=+1000um', 'Original_DB', 'tip_x=0um_y=-1000um']:\n",
    "    df2 = tracks.query(f'(track_type == \"Long\") & (scenario == \"{scenario}\")').dropna()\n",
    "    _df = df2.query('abs(true_py/true_pz) > 0.2')\n",
    "    _df.eval('100*(ty - true_py/true_pz)').hist(bins=_bins, histtype='step', lw=1, label=f'{scenario} - ty > 0.1', normed=True)\n",
    "plt.legend(loc='best')\n",
    "plt.xlim(min(_bins), max(_bins))\n",
    "plt.xlabel('Slope residual [%]')"
   ]
  },
  {
   "cell_type": "raw",
   "metadata": {
    "collapsed": false
   },
   "source": [
    "grouped = residuals['tip_x=0um_y=+1000um'].copy()\n",
    "grouped = grouped.groupby(['run_number', 'event_number', 'track_number'], as_index=False)\n",
    "residuals['tip_x=0um_y=+1000um'].shape, grouped.size().shape\n",
    "# grouped[grouped < 4]"
   ]
  },
  {
   "cell_type": "raw",
   "metadata": {
    "collapsed": false
   },
   "source": [
    "grouped = residuals['tip_x=0um_y=+1000um'].head(10000).copy()\n",
    "grouped['n_hits'] = grouped.groupby(['run_number', 'event_number', 'track_number'])['run_number'].transform(len)\n",
    "grouped[['run_number', 'event_number', 'track_number', 'n_hits', 'module']].query('(n_hits < 4) & (module == 15)')\n",
    "grouped[['run_number', 'event_number', 'track_number', 'n_hits', 'module']].query('(n_hits < 4) & (track_number == 345)')"
   ]
  },
  {
   "cell_type": "raw",
   "metadata": {
    "collapsed": false
   },
   "source": [
    "_tracks = tracks.query('scenario == \"tip_x=0um_y=+1000um\"').copy()\n",
    "grouped = residuals['tip_x=0um_y=+1000um'].copy()\n",
    "keys = ['run_number', 'event_number', 'track_number']\n",
    "counts = grouped.groupby(keys, as_index=False).size()\n",
    "pd.to_numeric(counts, downcast='integer')\n",
    "_tracks.set_index(keys, drop=True, append=False, inplace=True)\n",
    "# pd.merge(_tracks, counts, left_on=keys, right_on=keys)\n",
    "_tracks['n_hits'] = counts"
   ]
  },
  {
   "cell_type": "raw",
   "metadata": {
    "collapsed": false
   },
   "source": [
    "np.histogram(_tracks.n_hits.values, range=[0,30], bins=30)"
   ]
  },
  {
   "cell_type": "raw",
   "metadata": {
    "collapsed": false
   },
   "source": [
    "_bins = np.linspace(-0.005, 0.005, 100)\n",
    "tracks.query('(scenario == \"Original_DB\") & (abs(sqrt(tx**2+ty**2)) > 0.5)').eval('true_px/true_pz - tx').hist(bins=_bins, histtype='step', lw=1, normed=True)\n",
    "tracks.query('(scenario == \"Original_DB\") & (abs(sqrt(tx**2+ty**2)) < 0.5)').eval('true_px/true_pz - tx').hist(bins=_bins, histtype='step', lw=1, normed=True)\n",
    "tracks.query('(scenario == \"tip_x=0um_y=+1000um\") & (abs(sqrt(tx**2+ty**2)) > 0.5)').eval('true_px/true_pz - tx').hist(bins=_bins, histtype='step', lw=1, normed=True)\n",
    "tracks.query('(scenario == \"tip_x=0um_y=+1000um\") & (abs(sqrt(tx**2+ty**2)) < 0.5)').eval('true_px/true_pz - tx').hist(bins=_bins, histtype='step', lw=1, normed=True)"
   ]
  },
  {
   "cell_type": "code",
   "execution_count": null,
   "metadata": {
    "collapsed": true
   },
   "outputs": [],
   "source": []
  }
 ],
 "metadata": {
  "anaconda-cloud": {},
  "kernelspec": {
   "display_name": "Python [conda env:analysis-3.6]",
   "language": "python",
   "name": "conda-env-analysis-3.6-py"
  },
  "language_info": {
   "codemirror_mode": {
    "name": "ipython",
    "version": 3
   },
   "file_extension": ".py",
   "mimetype": "text/x-python",
   "name": "python",
   "nbconvert_exporter": "python",
   "pygments_lexer": "ipython3",
   "version": "3.6.0"
  }
 },
 "nbformat": 4,
 "nbformat_minor": 1
}
