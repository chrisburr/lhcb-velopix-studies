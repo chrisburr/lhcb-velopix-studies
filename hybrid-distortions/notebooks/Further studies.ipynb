{
 "cells": [
  {
   "cell_type": "code",
   "execution_count": null,
   "metadata": {
    "collapsed": true
   },
   "outputs": [],
   "source": [
    "%matplotlib inline\n",
    "%config InlineBackend.figure_format = 'retina'"
   ]
  },
  {
   "cell_type": "code",
   "execution_count": null,
   "metadata": {
    "collapsed": true
   },
   "outputs": [],
   "source": [
    "from collections import defaultdict\n",
    "from itertools import product\n",
    "from functools import wraps\n",
    "import json\n",
    "import re\n",
    "import os\n",
    "from os.path import isdir, join"
   ]
  },
  {
   "cell_type": "code",
   "execution_count": null,
   "metadata": {
    "collapsed": false
   },
   "outputs": [],
   "source": [
    "from tqdm import tqdm_notebook\n",
    "from matplotlib import pyplot as plt\n",
    "from joblib import delayed, Parallel\n",
    "import pandas as pd\n",
    "import numpy as np\n",
    "import seaborn as sns\n",
    "import matplotlib_pretty_tex as pgf"
   ]
  },
  {
   "cell_type": "code",
   "execution_count": null,
   "metadata": {
    "collapsed": false
   },
   "outputs": [],
   "source": [
    "import utils\n",
    "sns.set_context('paper', font_scale=1.4, rc={'legend.frameon': True})"
   ]
  },
  {
   "cell_type": "code",
   "execution_count": null,
   "metadata": {
    "collapsed": false,
    "scrolled": false
   },
   "outputs": [],
   "source": [
    "scenarios = ['tip_x=0um_y=-1000um_sigma=0.5', 'Original_DB', 'tip_x=0um_y=+1000um_sigma=0.5']\n",
    "\n",
    "outdir = f'output/{\"_\".join(scenarios)}/further_studies/'\n",
    "if isdir(outdir):\n",
    "    shutil.rmtree(outdir)\n",
    "os.makedirs(outdir)\n",
    "\n",
    "clusters, tracks, residuals, particles = utils.load(scenarios, fast=True)"
   ]
  },
  {
   "cell_type": "code",
   "execution_count": null,
   "metadata": {
    "collapsed": false
   },
   "outputs": [],
   "source": [
    "sigma = {\n",
    "    0.5: 0.382924922548026,\n",
    "    1: 0.682689492137086,\n",
    "    2: 0.954499736103642,\n",
    "    3: 0.997300203936740\n",
    "}\n",
    "bins = np.linspace(-0.2, 0.2, 100)\n",
    "sns.set_palette(sns.color_palette('colorblind', len(scenarios)))\n",
    "sns.set_style('whitegrid')"
   ]
  },
  {
   "cell_type": "code",
   "execution_count": null,
   "metadata": {
    "collapsed": false
   },
   "outputs": [],
   "source": [
    "particles.scenario.cat.categories"
   ]
  },
  {
   "cell_type": "markdown",
   "metadata": {},
   "source": [
    "## $x/y/z$ residuals\n",
    "\n",
    "Here the residual is plotted between:\n",
    " - The cluster position in the true geometry\n",
    " - The point of closest approach for the track reconstuced in the misaligned geometry\n",
    "\n",
    "As you might expect this only (appreciably) affects the residual in $x$ for rotations around $y$"
   ]
  },
  {
   "cell_type": "code",
   "execution_count": null,
   "metadata": {
    "collapsed": false,
    "scrolled": false
   },
   "outputs": [],
   "source": [
    "for scenario in scenarios:\n",
    "    residuals[scenario].residual_x.hist(\n",
    "        bins=bins, histtype='step', lw=1, normed=True, label=utils.format_label(scenario))\n",
    "plt.legend(loc='best', frameon=True)\n",
    "plt.xlabel('x residual [mm]')\n",
    "plt.xlim((bins[0], bins[-1]))\n",
    "pgf.savefig(join(out_dir, 'residual_x_integrated.pgf.png'))"
   ]
  },
  {
   "cell_type": "code",
   "execution_count": null,
   "metadata": {
    "collapsed": false
   },
   "outputs": [],
   "source": [
    "for scenario in scenarios:\n",
    "    residuals[scenario].residual_y.hist(\n",
    "        bins=bins, histtype='step', lw=1, normed=True, label=utils.format_label(scenario))\n",
    "plt.legend(loc='best', frameon=True)\n",
    "plt.xlabel('y residual [mm]')\n",
    "plt.xlim((bins[0], bins[-1]))\n",
    "pgf.savefig(join(out_dir, 'residual_y_integrated.pgf.png'))"
   ]
  },
  {
   "cell_type": "code",
   "execution_count": null,
   "metadata": {
    "collapsed": false
   },
   "outputs": [],
   "source": [
    "for scenario in scenarios:\n",
    "    residuals[scenario].residual_y.hist(\n",
    "        bins=bins, histtype='step', lw=1, normed=True, label=utils.format_label(scenario))\n",
    "plt.legend(loc='best', frameon=True)\n",
    "plt.xlabel('z residual [mm]')\n",
    "plt.xlim((bins[0], bins[-1]))\n",
    "pgf.savefig(join(out_dir, 'residual_z_integrated.pgf.png'))"
   ]
  },
  {
   "cell_type": "markdown",
   "metadata": {},
   "source": [
    "## $x/y/z$ residuals as a function of VP station\n",
    "\n",
    "Here I plot the $x/y/z$ residuals (above) as a function of VP station. The coutour lines corrosponding to the median, $\\pm1\\sigma$ and $\\pm2\\sigma$ are shown, where the values are obtained by taking the percentiles of the residual distribution.\n",
    "\n",
    "I also plot the true residual, which is the residual between the true cluster location (using nominal geometry) and the track."
   ]
  },
  {
   "cell_type": "code",
   "execution_count": null,
   "metadata": {
    "collapsed": false
   },
   "outputs": [],
   "source": [
    "station_positions = {\n",
    "    0: -281.25, 1: -256.25, 2: -231.25, 3: -206.25, 4: -131.25, 5: -56.25, 6: -31.25,\n",
    "    7: -6.25, 8: 18.75, 9: 43.75, 10: 68.75, 11: 93.75, 12: 118.75, 13: 143.75,\n",
    "    14: 168.75, 15: 193.75, 16: 218.75, 17: 243.75, 18: 268.75, 19: 318.75,\n",
    "    20: 393.75, 21: 493.75, 22: 593.75, 23: 643.75, 24: 693.75, 25: 743.75\n",
    "}"
   ]
  },
  {
   "cell_type": "code",
   "execution_count": null,
   "metadata": {
    "collapsed": false
   },
   "outputs": [],
   "source": [
    "def _get_ys(scenario, var, side):\n",
    "    _var = var[[0, len('true_')][scenario == 'Original_DB' and var.startswith('true_')]:]\n",
    "    rs = residuals[scenario]\n",
    "    if side is not None:\n",
    "        rs = rs.query(f'module % 2 == {side}')\n",
    "    rs = rs.groupby('station', sort=True)[_var]\n",
    "    ys = rs.quantile([0.5+sigma[2]/2, 0.5+sigma[1]/2, 0.5, 0.5-sigma[1]/2, 0.5-sigma[2]/2])\n",
    "    return (scenario, side), ys\n",
    "\n",
    "def plot_residual(var, vs_station=False, sides=None, suffix=''):\n",
    "    plt.figure()\n",
    "    sides = sides or list(zip(scenarios, [None]*len(scenarios)))\n",
    "    stations = residuals['Original_DB'].station.cat.categories.values\n",
    "    alphas = [0.25, 0.75, 1, 0.75, 0.25]\n",
    "    linestyles = [':', '--', '-', '--', ':']\n",
    "\n",
    "    xs = [[station_positions[x] for x in stations], stations][vs_station]\n",
    "    ys = dict(Parallel(n_jobs=len(scenarios), backend='threading')(\n",
    "        delayed(_get_ys)(scenario, var, side=side) for scenario, side in sides\n",
    "    ))\n",
    "\n",
    "    for (scenario, side), colour in zip(sides, sns.color_palette(n_colors=len(scenarios)*len(sides))):\n",
    "        lines = []\n",
    "        for (quantile, y), a, ls in zip(ys[(scenario, side)].groupby(level=1, sort=True), alphas, linestyles):\n",
    "            label = utils.format_label(scenario)\n",
    "            label = [None, label if side is None else f'{label} - {[\"even\", \"odd\"][side]}'][quantile == 0.5]\n",
    "            l, = plt.plot(xs, y.values, c=colour, alpha=a, ls=ls, label=label)\n",
    "            lines.append(l)\n",
    "\n",
    "        if scenario == 'Original_DB':\n",
    "            sigma_legend = plt.legend(lines[:3], ['$\\pm2\\sigma$', '$\\pm1\\sigma$', 'median'], loc='lower left', frameon=True)\n",
    "\n",
    "    plt.legend(loc='best', frameon=True)\n",
    "    plt.gca().add_artist(sigma_legend)\n",
    "    plt.xlim((0, 25) if vs_station else (station_positions[0], station_positions[25]))\n",
    "    plt.xlabel('z [mm]')\n",
    "    plt.ylabel(f'{var.split(\"_\")[-1]} {\" \".join(var.split(\"_\")[:-1])} [mm]')\n",
    "    ylim = max(map(abs, plt.ylim()))\n",
    "    if var.endswith('_z'):\n",
    "        ylim *= 1.5\n",
    "    plt.ylim((-ylim, ylim))\n",
    "    pgf.savefig(join(out_dir, f'{var}_vs_z{suffix}.pgf.png'))"
   ]
  },
  {
   "cell_type": "code",
   "execution_count": null,
   "metadata": {
    "collapsed": false,
    "scrolled": false
   },
   "outputs": [],
   "source": [
    "plot_residual('residual_x')"
   ]
  },
  {
   "cell_type": "code",
   "execution_count": null,
   "metadata": {
    "collapsed": false
   },
   "outputs": [],
   "source": [
    "plot_residual('true_residual_x')"
   ]
  },
  {
   "cell_type": "code",
   "execution_count": null,
   "metadata": {
    "collapsed": false
   },
   "outputs": [],
   "source": [
    "plot_residual('residual_y')"
   ]
  },
  {
   "cell_type": "code",
   "execution_count": null,
   "metadata": {
    "collapsed": false
   },
   "outputs": [],
   "source": [
    "plot_residual('true_residual_y')"
   ]
  },
  {
   "cell_type": "code",
   "execution_count": null,
   "metadata": {
    "collapsed": false
   },
   "outputs": [],
   "source": [
    "plot_residual('residual_z')"
   ]
  },
  {
   "cell_type": "code",
   "execution_count": null,
   "metadata": {
    "collapsed": false,
    "scrolled": false
   },
   "outputs": [],
   "source": [
    "plot_residual('true_residual_z')"
   ]
  },
  {
   "cell_type": "markdown",
   "metadata": {},
   "source": [
    "### And try splitting tracks by side"
   ]
  },
  {
   "cell_type": "code",
   "execution_count": null,
   "metadata": {
    "collapsed": false,
    "scrolled": false
   },
   "outputs": [],
   "source": [
    "plot_residual('true_residual_x', sides=[('Original_DB', 0), ('Original_DB', 1)], suffix='_left_right_Original_DB')\n",
    "plot_residual('true_residual_x', sides=[(scenarios[0], 0), ('Original_DB', None), (scenarios[0], 1)], suffix=f'_left_right_{scenarios[0]}')\n",
    "plot_residual('true_residual_x', sides=[(scenarios[2], 0), ('Original_DB', None), (scenarios[2], 1)], suffix=f'_left_right_{scenarios[2]}')"
   ]
  },
  {
   "cell_type": "code",
   "execution_count": null,
   "metadata": {
    "collapsed": false
   },
   "outputs": [],
   "source": [
    "plot_residual('true_residual_y', sides=[('Original_DB', 0), ('Original_DB', 1)], suffix='_left_right_Original_DB')\n",
    "plot_residual('true_residual_y', sides=[(scenarios[0], 0), ('Original_DB', None), (scenarios[0], 1)], suffix=f'_left_right_{scenarios[0]}')\n",
    "plot_residual('true_residual_y', sides=[(scenarios[2], 0), ('Original_DB', None), (scenarios[2], 1)], suffix=f'_left_right_{scenarios[2]}')"
   ]
  },
  {
   "cell_type": "code",
   "execution_count": null,
   "metadata": {
    "collapsed": false,
    "scrolled": false
   },
   "outputs": [],
   "source": [
    "plot_residual('true_residual_z', sides=[('Original_DB', 0), ('Original_DB', 1)], suffix='_left_right_Original_DB')\n",
    "plot_residual('true_residual_z', sides=[(scenarios[0], 0), ('Original_DB', None), (scenarios[0], 1)], suffix=f'_left_right_{scenarios[0]}')\n",
    "plot_residual('true_residual_z', sides=[(scenarios[2], 0), ('Original_DB', None), (scenarios[2], 1)], suffix=f'_left_right_{scenarios[2]}')"
   ]
  },
  {
   "cell_type": "markdown",
   "metadata": {},
   "source": [
    "## Momentum resolution of all long tracks"
   ]
  },
  {
   "cell_type": "code",
   "execution_count": null,
   "metadata": {
    "collapsed": false
   },
   "outputs": [],
   "source": [
    "for scenario in scenarios:\n",
    "    long_tracks = tracks.query(f'(scenario == \"{scenario}\") & (track_type == \"Long\")')\n",
    "    resolution = long_tracks.eval('(p-true_p)/true_p').dropna()\n",
    "    resolution.hist(bins=np.linspace(-0.05, 0.05, 100), histtype='step', lw=1,\n",
    "                    label=utils.format_label(scenario), normed=True)\n",
    "plt.legend(loc='best', frameon=True)\n",
    "plt.xlim((-0.05, 0.05))\n",
    "plt.xlabel('Long track momentum resolution [% true momentum]')\n",
    "pgf.savefig(join(out_dir, 'momentum_resolution_integrated.pgf.png'))"
   ]
  },
  {
   "cell_type": "code",
   "execution_count": null,
   "metadata": {
    "collapsed": false,
    "scrolled": false
   },
   "outputs": [],
   "source": [
    "for scenario, colour in zip(scenarios, sns.color_palette(n_colors=len(scenarios))):\n",
    "    long_tracks = tracks.query(f'(scenario == \"{scenario}\") & (track_type == \"Long\")')\n",
    "    # Use a variable binning to avoid issues with low stats\n",
    "    xs = np.concatenate([\n",
    "        np.linspace(1300, 13000, 11),\n",
    "        np.arange(15000, 31001, 2000),\n",
    "        np.arange(35000, 61000, 4000)\n",
    "    ])\n",
    "    ys = []\n",
    "    for p_low, p_high in utils.pairwise(xs):\n",
    "        resolution = long_tracks.query(f'({p_low} <= true_p) & (true_p < {p_high})')\n",
    "        resolution = resolution.eval('(p-true_p)/true_p').dropna()\n",
    "        if len(resolution) < 50:\n",
    "            print(p_low, scenario, len(resolution))\n",
    "        ys.append([\n",
    "            resolution.quantile(0.5+sigma[1]/2),\n",
    "            resolution.median(),\n",
    "            resolution.quantile(0.5-sigma[1]/2)\n",
    "        ])\n",
    "\n",
    "    for y, alpha, ls in zip(zip(*ys), [0.75, 1, 0.75], ['--', '-', '--']):\n",
    "        plt.plot(xs[:-1]+np.diff(xs), y, c=colour, alpha=alpha, ls=ls,\n",
    "                 label=(utils.format_label(scenario) if alpha == 1 else None))\n",
    "\n",
    "plt.legend(loc='best', frameon=True)\n",
    "plt.xlim((xs[0], xs[-1]))\n",
    "plt.xlabel('True track momentum')\n",
    "plt.ylabel('Long track $p$ resolution [\\% true momentum]')\n",
    "pgf.savefig(join(out_dir, 'momentum_resolution_vs_momentum.pgf.png'))"
   ]
  },
  {
   "cell_type": "markdown",
   "metadata": {},
   "source": [
    "## $D^0$ vertex fit quality\n",
    "\n",
    "Here $D^{*+} \\rightarrow \\left(D^0 \\rightarrow K^+ K^- \\right) \\pi^+$ candidates are reconstructed by:\n",
    " - Truth matching tracks (created with NoPIDsParticleMaker) to ensure that all hits on a final state track are assoiated with the same MCParticle\n",
    " - The mother of both kaons is then required to be the same MCParticle\n",
    " - The mother of the pion must be the same as the mother of the mother of the kaons\n",
    "\n",
    "The vertex is then fitted using `LoKi::VertexFitter` to build a $D^0$\n",
    "\n",
    "TODO:\n",
    " - Do I need to worry if the mother of the kaon MCParticles is something other than a $D^0$ (so $D^0 \\rightarrow X\n",
    "\\rightarrow K^+ K^-)$?\n",
    " - Likewise for the $D^{*+}$?"
   ]
  },
  {
   "cell_type": "code",
   "execution_count": null,
   "metadata": {
    "collapsed": false
   },
   "outputs": [],
   "source": [
    "for scenario in scenarios:\n",
    "    chi2 = particles.query(f'scenario == \"{scenario}\"').vertex_chi2\n",
    "    label = f'{utils.format_label(scenario)} ({len(chi2)})'\n",
    "    if scenario == 'Original_DB':\n",
    "        chi2.hist(bins=np.linspace(0, 5, 51), label=label, alpha=0.5, normed=True)\n",
    "    else:\n",
    "        chi2.hist(bins=np.linspace(0, 5, 51), label=label, normed=True, histtype='step', lw=1)\n",
    "    print(f'{sum(chi2 > 5)} ({sum(chi2 > 5)/len(chi2):.1%}) events clipped for {scenario}')\n",
    "    # Print sigma values for if this was one side of a normal distribution\n",
    "    print(f'   0.5σ = {chi2.quantile(sigma[0.5]/2):.3f}')\n",
    "    print(f'   1σ   = {chi2.quantile(sigma[1]/2):.3f}')\n",
    "    print(f'   2σ   = {chi2.quantile(sigma[2]/2):.3f}')\n",
    "plt.legend(loc='best', frameon=True)\n",
    "plt.xlim((0, 5))\n",
    "plt.xlabel('D$^0$ vertex $\\chi^2$')\n",
    "pgf.savefig(join(out_dir, 'D0_vertex_chi2.pgf.png'))"
   ]
  },
  {
   "cell_type": "markdown",
   "metadata": {},
   "source": [
    "## Flight distance resolution\n",
    "\n",
    "The flight distance is taken to be the distance between the reconstructed $D^0$ vertex (above) and the true $D^{*+}$ origin vertex. I **do not** consider if the $D^{*+}$ is promptly produced."
   ]
  },
  {
   "cell_type": "code",
   "execution_count": null,
   "metadata": {
    "collapsed": false
   },
   "outputs": [],
   "source": [
    "for scenario in scenarios:\n",
    "    true_fd = particles.query(f'(scenario == \"{scenario}\")').true_fd\n",
    "    label = f'{utils.format_label(scenario)} ({len(true_fd)})'\n",
    "    if scenario == 'Original_DB':\n",
    "        true_fd.hist(bins=np.linspace(0, 5, 21), label=label, alpha=0.5, normed=True)\n",
    "    else:\n",
    "        true_fd.hist(bins=np.linspace(0, 5, 21), label=label, normed=True, histtype='step', lw=1)\n",
    "plt.legend(loc='best', frameon=True)\n",
    "plt.xlim((0, 5))\n",
    "plt.xlabel('True flight distance [mm]')\n",
    "pgf.savefig(join(out_dir, 'true_flight_distance.pgf.png'))"
   ]
  },
  {
   "cell_type": "code",
   "execution_count": null,
   "metadata": {
    "collapsed": false
   },
   "outputs": [],
   "source": [
    "for scenario in scenarios:\n",
    "    reco_fd = particles.query(f'(scenario == \"{scenario}\")').fd\n",
    "    label = f'{utils.format_label(scenario)} ({len(reco_fd)})'\n",
    "    if scenario == 'Original_DB':\n",
    "        reco_fd.hist(bins=np.linspace(0, 5, 21), label=label, alpha=0.5, normed=True)\n",
    "    else:\n",
    "        reco_fd.hist(bins=np.linspace(0, 5, 21), label=label, normed=True, histtype='step', lw=1)\n",
    "plt.legend(loc='best', frameon=True)\n",
    "plt.xlim((0, 5))\n",
    "plt.xlabel('Reconstructed flight distance [mm]')\n",
    "pgf.savefig(join(out_dir, 'reconstructed_flight_distance.pgf.png'))"
   ]
  },
  {
   "cell_type": "code",
   "execution_count": null,
   "metadata": {
    "collapsed": false
   },
   "outputs": [],
   "source": [
    "for scenario in scenarios:\n",
    "    _particles = particles.query(f'(scenario == \"{scenario}\")')\n",
    "    reco_fd = _particles.fd\n",
    "    true_fd = _particles.true_fd\n",
    "    res = true_fd - reco_fd\n",
    "    print(scenario, sum(res > 1))\n",
    "    print(f'  median = {res.median():.3f}')\n",
    "    print(f'    0.5σ = {res.quantile(0.5+sigma[0.5]/2)-res.quantile(0.5-sigma[0.5]/2):.3f}')\n",
    "    print(f'      1σ = {res.quantile(0.5+sigma[1]/2)-res.quantile(0.5-sigma[1]/2):.3f}')\n",
    "    label = f'{utils.format_label(scenario)} ({len(res)})'\n",
    "    if scenario == 'Original_DB':\n",
    "        res.hist(bins=np.linspace(-1, 1, 22), label=label, alpha=0.5, normed=True)\n",
    "    else:\n",
    "        res.hist(bins=np.linspace(-1, 1, 22), label=label, normed=True, histtype='step', lw=1)\n",
    "plt.legend(loc='best', frameon=True)\n",
    "plt.xlim((-1, 1))\n",
    "plt.xlabel('(True - Reconstructed) flight distance [mm]')\n",
    "pgf.savefig(join(out_dir, 'flight_distance_resolution.pgf.png'))"
   ]
  },
  {
   "cell_type": "markdown",
   "metadata": {},
   "source": [
    "## D0 lifetime\n",
    "\n",
    "Using reconstructed momentum of the $D^0$ in all cases.\n",
    "\n",
    "$\\gamma = \\frac{1}{\\sqrt{1+\\frac{p}{m\\left(D^0\\right)}^2}}$\n",
    "\n",
    "$t_{\\text{proper}} = \\frac{\\text{FD}*\\gamma}{c}$"
   ]
  },
  {
   "cell_type": "code",
   "execution_count": null,
   "metadata": {
    "collapsed": false
   },
   "outputs": [],
   "source": [
    "particles.eval(f'proper_time = (fd/1000 * D0_gamma) /{utils.speed_of_light}', inplace=True)\n",
    "particles.eval(f'true_proper_time = (true_fd/1000 * D0_gamma) /{utils.speed_of_light}', inplace=True)"
   ]
  },
  {
   "cell_type": "code",
   "execution_count": null,
   "metadata": {
    "collapsed": false
   },
   "outputs": [],
   "source": [
    "for scenario in scenarios:\n",
    "    lt = particles.query(f'(scenario == \"{scenario}\")').true_proper_time*1e12\n",
    "    label = f'{utils.format_label(scenario)} ({lt.quantile(1 - 1/np.exp(1)):.3f}ps)'\n",
    "    if scenario == 'Original_DB':\n",
    "        lt.hist(bins=np.linspace(0, 3e-0, 21), label=label, alpha=0.5, normed=True)\n",
    "    else:\n",
    "        lt.hist(bins=np.linspace(0, 3e-0, 21), label=label, normed=True, histtype='step', lw=1)\n",
    "plt.legend(loc='best', frameon=True)\n",
    "plt.xlim((0, 3e-0))\n",
    "plt.xlabel('True proper lifetime [ps]')\n",
    "pgf.savefig(join(out_dir, 'true_proper_lifetime.pgf.png'))"
   ]
  },
  {
   "cell_type": "code",
   "execution_count": null,
   "metadata": {
    "collapsed": false
   },
   "outputs": [],
   "source": [
    "for scenario in scenarios:\n",
    "    lt = particles.query(f'(scenario == \"{scenario}\")').proper_time*1e12\n",
    "    label = f'{utils.format_label(scenario)} ({lt.quantile(1 - 1/np.exp(1)):.3f}ps)'\n",
    "    if scenario == 'Original_DB':\n",
    "        lt.hist(bins=np.linspace(0, 3e0, 21), label=label, alpha=0.5, normed=True)\n",
    "    else:\n",
    "        lt.hist(bins=np.linspace(0, 3e0, 21), label=label, normed=True, histtype='step', lw=1)\n",
    "plt.legend(loc='best', frameon=True)\n",
    "plt.xlim((0, 3e0))\n",
    "plt.xlabel('Reconstructed proper lifetime [ps]')\n",
    "pgf.savefig(join(out_dir, 'reconstructed_proper_lifetime.pgf.png'))"
   ]
  },
  {
   "cell_type": "code",
   "execution_count": null,
   "metadata": {
    "collapsed": false
   },
   "outputs": [],
   "source": [
    "print(f'{\"scenario\".rjust(30)} {\"mean\".ljust(7)} {\"median\".ljust(7)} {\"0.5σ\".ljust(7)} {\"1σ\".ljust(7)}')\n",
    "for scenario in scenarios:\n",
    "    _particles = particles.query(f'(scenario == \"{scenario}\")')\n",
    "    res = (_particles.true_proper_time - _particles.proper_time)*1e12\n",
    "    print(scenario.rjust(30), end=' ')\n",
    "    print(f'{res.mean():.3f}'.ljust(7), end=' ')\n",
    "    print(f'{res.median():.3f}'.ljust(7), end=' ')\n",
    "    print(f'{res.quantile(0.5+sigma[0.5]/2)-res.quantile(0.5-sigma[0.5]/2):.3f}'.ljust(7), end=' ')\n",
    "    print(f'{res.quantile(0.5+sigma[1]/2)-res.quantile(0.5-sigma[1]/2):.3f}'.ljust(7))\n",
    "    label = f'{utils.format_label(scenario)} ({len(res)})'\n",
    "    if scenario == 'Original_DB':\n",
    "        res.hist(bins=np.linspace(-3e-1, 3e-1, 22), label=label, alpha=0.5, normed=True)\n",
    "    else:\n",
    "        res.hist(bins=np.linspace(-3e-1, 3e-1, 22), label=label, normed=True, histtype='step', lw=1)\n",
    "plt.legend(loc='best', frameon=True)\n",
    "plt.xlim((-3e-1, 3e-1))\n",
    "plt.xlabel('(True - Reconstructed) proper lifetime [ps]')\n",
    "pgf.savefig(join(out_dir, 'proper_lifetime_resolution.pgf.png'))\n",
    "plt.gcf().set_size_inches(2*4.209473640514736, 2*2.89401312785)"
   ]
  }
 ],
 "metadata": {
  "anaconda-cloud": {},
  "kernelspec": {
   "display_name": "Python [conda env:analysis-3.6]",
   "language": "python",
   "name": "conda-env-analysis-3.6-py"
  },
  "language_info": {
   "codemirror_mode": {
    "name": "ipython",
    "version": 3
   },
   "file_extension": ".py",
   "mimetype": "text/x-python",
   "name": "python",
   "nbconvert_exporter": "python",
   "pygments_lexer": "ipython3",
   "version": "3.6.0"
  }
 },
 "nbformat": 4,
 "nbformat_minor": 1
}
