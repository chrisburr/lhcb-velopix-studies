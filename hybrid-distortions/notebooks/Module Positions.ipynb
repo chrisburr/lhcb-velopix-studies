{
 "cells": [
  {
   "cell_type": "code",
   "execution_count": null,
   "metadata": {
    "collapsed": false
   },
   "outputs": [],
   "source": [
    "%matplotlib inline\n",
    "%config InlineBackend.figure_format = 'retina'"
   ]
  },
  {
   "cell_type": "code",
   "execution_count": null,
   "metadata": {
    "collapsed": true
   },
   "outputs": [],
   "source": [
    "from glob import glob\n",
    "import json\n",
    "import re\n",
    "import shutil\n",
    "import os\n",
    "from os.path import join, isdir"
   ]
  },
  {
   "cell_type": "code",
   "execution_count": null,
   "metadata": {
    "collapsed": false
   },
   "outputs": [],
   "source": [
    "from matplotlib import pyplot as plt\n",
    "import matplotlib_pretty_tex as mpt\n",
    "import seaborn as sns\n",
    "from matplotlib.ticker import MultipleLocator"
   ]
  },
  {
   "cell_type": "code",
   "execution_count": null,
   "metadata": {
    "collapsed": true
   },
   "outputs": [],
   "source": [
    "# Control how ladders are drawn\n",
    "points = ['A', 'B', 'C', 'D', 'A', 'E', 'F', 'B', 'F', 'G', 'C', 'G', 'H', 'D', 'H', 'E']"
   ]
  },
  {
   "cell_type": "code",
   "execution_count": null,
   "metadata": {
    "collapsed": true
   },
   "outputs": [],
   "source": [
    "scenarios = ['tip_x=0um_y=-1000um', 'Nominal', 'tip_x=0um_y=+1000um']"
   ]
  },
  {
   "cell_type": "code",
   "execution_count": null,
   "metadata": {
    "collapsed": false
   },
   "outputs": [],
   "source": [
    "vp_sides = ['VPLeft', 'VPRight']\n",
    "\n",
    "outdir = f'output/{\"_\".join(scenarios)}/module_positions/'\n",
    "if isdir(outdir):\n",
    "    shutil.rmtree(outdir)\n",
    "os.makedirs(outdir)\n",
    "\n",
    "velo_geometry = {'local': {}, 'global': {}}\n",
    "for scenario in scenarios:\n",
    "    with open(f'output/scenarios/{scenario}/local_geo.json', 'rt') as f:\n",
    "        velo_geometry['local'][scenario] = json.load(f)\n",
    "    with open(f'output/scenarios/{scenario}/global_geo.json', 'rt') as f:\n",
    "        velo_geometry['global'][scenario] = json.load(f)"
   ]
  },
  {
   "cell_type": "markdown",
   "metadata": {},
   "source": [
    "## Look at the $xy$ plane for all modules\n",
    "\n",
    "To check that the all line up"
   ]
  },
  {
   "cell_type": "code",
   "execution_count": null,
   "metadata": {
    "collapsed": false,
    "scrolled": false
   },
   "outputs": [],
   "source": [
    "for scenario in velo_geometry['global']:\n",
    "    plt.figure(figsize=[8, 8], dpi=100)\n",
    "    for m_id in range(0, 52, 2):\n",
    "        assert m_id % 2 == 0\n",
    "        # Draw all ladders for this module\n",
    "        for vp_side in vp_sides:\n",
    "            for l_id in range(4):\n",
    "                ladder = velo_geometry['global'][scenario][\n",
    "                    f'/dd/Structure/LHCb/BeforeMagnetRegion/VP/{vp_side}/'\n",
    "                    f'Module{m_id:002d}WithSupport/Module{m_id:002d}/Ladder{l_id}'\n",
    "                ]\n",
    "                xs = [ladder[p][0] for p in points]\n",
    "                ys = [ladder[p][1] for p in points]\n",
    "                plt.plot(xs, ys, label=f'M{m_id:002d} L{l_id}', lw=1, alpha=0.75)\n",
    "            # Increment the module id\n",
    "            m_id += 1\n",
    "\n",
    "    plt.gca().set_aspect('equal')\n",
    "    plt.xlabel('Global LHCb X axis [mm]')\n",
    "    plt.ylabel('Global LHCb Y axis [mm]')\n",
    "    plt.axvline(0, ls='--', c='k', lw=1)\n",
    "    plt.axhline(0, ls='--', c='k', lw=1)\n",
    "    mpt.savefig(join(outdir, f'x_vs_y_all_{scenario}.pgf.png'))"
   ]
  },
  {
   "cell_type": "markdown",
   "metadata": {},
   "source": [
    "## Look at the $xz$ plane"
   ]
  },
  {
   "cell_type": "code",
   "execution_count": null,
   "metadata": {
    "collapsed": false
   },
   "outputs": [],
   "source": [
    "plt.figure(figsize=[16, 8], dpi=200)\n",
    "for scenario, c in zip(velo_geometry['global'], sns.color_palette('colorblind', len(velo_geometry['global']))):\n",
    "    for m_id in range(0, 52, 2):\n",
    "        for vp_side in vp_sides:\n",
    "            mean_z_pos = 0\n",
    "\n",
    "            # Draw all ladders for this module\n",
    "            for l_id in range(4):\n",
    "                ladder = velo_geometry['global'][scenario][\n",
    "                    f'/dd/Structure/LHCb/BeforeMagnetRegion/VP/{vp_side}/'\n",
    "                    f'Module{m_id:002d}WithSupport/Module{m_id:002d}/Ladder{l_id}'\n",
    "                ]\n",
    "                xs = [ladder[p][2] for p in points]\n",
    "                ys = [ladder[p][0] for p in points]\n",
    "                mean_z_pos += sum(xs)/len(xs)/4\n",
    "                label = [None, scenario][m_id == 0 and l_id == 0]\n",
    "                plt.plot(xs, ys, label=label, alpha=0.75, c=c, lw=0.25)\n",
    "\n",
    "            # Draw the position label\n",
    "            if scenario == 'nominal':\n",
    "                plt.text(mean_z_pos, 85, f'M{m_id:002d} {mean_z_pos:.2f}mm', fontsize=4, rotation=45)\n",
    "                # print(f'{m_id}: {mean_z_pos},', end=' ')\n",
    "\n",
    "            # Increment the module id\n",
    "            m_id += 1\n",
    "\n",
    "plt.gca().set_aspect('equal')\n",
    "plt.legend(loc='best', frameon=True, fontsize=4)\n",
    "plt.xlabel('Global LHCb Z axis [mm]')\n",
    "plt.ylabel('Global LHCb X axis [mm]')\n",
    "\n",
    "mpt.savefig(join(outdir, f'x_vs_z_all.pgf.png'))"
   ]
  },
  {
   "cell_type": "markdown",
   "metadata": {},
   "source": [
    "## Look at the $yz$ plane"
   ]
  },
  {
   "cell_type": "code",
   "execution_count": null,
   "metadata": {
    "collapsed": false,
    "scrolled": false
   },
   "outputs": [],
   "source": [
    "plt.figure(figsize=[16, 8], dpi=200)\n",
    "for scenario, c in zip(velo_geometry['global'], sns.color_palette('colorblind', len(velo_geometry['global']))):\n",
    "    for m_id in range(0, 52, 2):\n",
    "        for vp_side in vp_sides:\n",
    "            mean_z_pos = 0\n",
    "\n",
    "            # Draw all ladders for this module\n",
    "            for l_id in range(4):\n",
    "                ladder = velo_geometry['global'][scenario][\n",
    "                    f'/dd/Structure/LHCb/BeforeMagnetRegion/VP/{vp_side}/'\n",
    "                    f'Module{m_id:002d}WithSupport/Module{m_id:002d}/Ladder{l_id}'\n",
    "                ]\n",
    "                xs = [ladder[p][2] for p in points]\n",
    "                ys = [ladder[p][1] for p in points]\n",
    "                mean_z_pos += sum(xs)/len(xs)/4\n",
    "                label = [None, scenario][m_id == 0 and l_id == 0]\n",
    "                plt.plot(xs, ys, label=label, alpha=0.75, c=c, lw=0.25)\n",
    "\n",
    "            # Draw the position label\n",
    "            if scenario == 'nominal':\n",
    "                plt.text(mean_z_pos, 85, f'M{m_id:002d} {mean_z_pos:.2f}mm', fontsize=4, rotation=45)\n",
    "\n",
    "            # Increment the module id\n",
    "            m_id += 1\n",
    "\n",
    "plt.gca().set_aspect('equal')\n",
    "plt.legend(loc='best', frameon=True, fontsize=4)\n",
    "plt.xlabel('Global LHCb Z axis [mm]')\n",
    "plt.ylabel('Global LHCb Y axis [mm]')\n",
    "mpt.savefig(join(outdir, f'y_vs_z_all.pgf.png'))"
   ]
  },
  {
   "cell_type": "markdown",
   "metadata": {},
   "source": [
    "## Look at the $xy$ plane of a single module pair"
   ]
  },
  {
   "cell_type": "code",
   "execution_count": null,
   "metadata": {
    "collapsed": false,
    "scrolled": false
   },
   "outputs": [],
   "source": [
    "for scenario in velo_geometry['global']:\n",
    "    plt.figure(figsize=[8, 8], dpi=100)\n",
    "    for m_id in range(0, 1, 2):\n",
    "        assert m_id % 2 == 0\n",
    "        # Draw all ladders for this module\n",
    "        for vp_side, ls in zip(vp_sides, ['-', '--']):\n",
    "            for l_id, c in zip(range(4), sns.color_palette('colorblind', 4)):\n",
    "                ladder = velo_geometry['global'][scenario][\n",
    "                    f'/dd/Structure/LHCb/BeforeMagnetRegion/VP/{vp_side}/'\n",
    "                    f'Module{m_id:002d}WithSupport/Module{m_id:002d}/Ladder{l_id}'\n",
    "                ]\n",
    "                xs = [ladder[p][0] for p in points]\n",
    "                ys = [ladder[p][1] for p in points]\n",
    "                lines = plt.plot(xs, ys, label=f'M{m_id:002d} L{l_id}', lw=1, alpha=0.75, ls=ls, c=c)\n",
    "                plt.text(\n",
    "                    ladder['A'][0], ladder['A'][1],\n",
    "                    f'     ({ladder[\"A\"][0]:.2f}, {ladder[\"A\"][1]:.2f}, {ladder[\"A\"][2]:.2f})     ',\n",
    "                    fontsize=6, color=c\n",
    "                )\n",
    "                plt.text(\n",
    "                    ladder['B'][0], ladder['B'][1],\n",
    "                    f'     ({ladder[\"B\"][0]:.2f}, {ladder[\"B\"][1]:.2f}, {ladder[\"B\"][2]:.2f})     ',\n",
    "                    fontsize=6, color=c, horizontalalignment='right'\n",
    "                )\n",
    "                plt.text(\n",
    "                    ladder['C'][0], ladder['C'][1],\n",
    "                    f'     ({ladder[\"C\"][0]:.2f}, {ladder[\"C\"][1]:.2f}, {ladder[\"C\"][2]:.2f})     ',\n",
    "                    fontsize=6, color=c, horizontalalignment='right'\n",
    "                )\n",
    "                plt.text(\n",
    "                    ladder['D'][0], ladder['D'][1],\n",
    "                    f'     ({ladder[\"D\"][0]:.2f}, {ladder[\"D\"][1]:.2f}, {ladder[\"D\"][2]:.2f})     ',\n",
    "                    fontsize=6, color=c\n",
    "                )\n",
    "            # Increment the module id\n",
    "            m_id += 1\n",
    "\n",
    "    plt.gca().set_aspect('equal')\n",
    "    plt.xlabel('Global LHCb X axis [mm]')\n",
    "    plt.ylabel('Global LHCb Y axis [mm]')\n",
    "    plt.axvline(0, ls='--', c='k', lw=1)\n",
    "    plt.axhline(0, ls='--', c='k', lw=1)\n",
    "\n",
    "    plt.legend(loc='best', frameon=True)\n",
    "    plt.title(scenario)\n",
    "    mpt.savefig(join(outdir, f'x_vs_y_M00_M01_{scenario}.pgf.png'))"
   ]
  },
  {
   "cell_type": "markdown",
   "metadata": {},
   "source": [
    "## Look at the $yz$ plane of a single module pair"
   ]
  },
  {
   "cell_type": "code",
   "execution_count": null,
   "metadata": {
    "collapsed": false,
    "scrolled": false
   },
   "outputs": [],
   "source": [
    "for scenario in velo_geometry['global']:\n",
    "    plt.figure(figsize=[8, 8], dpi=100)\n",
    "    for m_id in range(0, 1, 2):\n",
    "        assert m_id % 2 == 0\n",
    "        # Draw all ladders for this module\n",
    "        for vp_side, ls in zip(vp_sides, ['-', '--']):\n",
    "            for l_id, c in zip(range(4), sns.color_palette('colorblind', 4)):\n",
    "                ladder = velo_geometry['global'][scenario][\n",
    "                    f'/dd/Structure/LHCb/BeforeMagnetRegion/VP/{vp_side}/'\n",
    "                    f'Module{m_id:002d}WithSupport/Module{m_id:002d}/Ladder{l_id}'\n",
    "                ]\n",
    "                xs = [ladder[p][2] for p in points]\n",
    "                ys = [ladder[p][0] for p in points]\n",
    "                lines = plt.plot(xs, ys, label=f'M{m_id:002d} L{l_id}', lw=1, alpha=0.75, ls=ls, c=c)\n",
    "                plt.text(\n",
    "                    ladder['A'][2], ladder['A'][0],\n",
    "                    f'     ({ladder[\"A\"][0]:.2f}, {ladder[\"A\"][1]:.2f}, {ladder[\"A\"][2]:.2f})     ',\n",
    "                    fontsize=6, color=c\n",
    "                )\n",
    "                plt.text(\n",
    "                    ladder['B'][2], ladder['B'][0],\n",
    "                    f'     ({ladder[\"B\"][0]:.2f}, {ladder[\"B\"][1]:.2f}, {ladder[\"B\"][2]:.2f})     ',\n",
    "                    fontsize=6, color=c, horizontalalignment='right'\n",
    "                )\n",
    "                plt.text(\n",
    "                    ladder['C'][2], ladder['C'][0],\n",
    "                    f'     ({ladder[\"C\"][0]:.2f}, {ladder[\"C\"][1]:.2f}, {ladder[\"C\"][2]:.2f})     ',\n",
    "                    fontsize=6, color=c, horizontalalignment='right'\n",
    "                )\n",
    "                plt.text(\n",
    "                    ladder['D'][2], ladder['D'][0],\n",
    "                    f'     ({ladder[\"D\"][0]:.2f}, {ladder[\"D\"][1]:.2f}, {ladder[\"D\"][2]:.2f})     ',\n",
    "                    fontsize=6, color=c\n",
    "                )\n",
    "            # Increment the module id\n",
    "            m_id += 1\n",
    "\n",
    "    # plt.gca().set_aspect('equal')\n",
    "    plt.xlabel('Global LHCb Z axis [mm]')\n",
    "    plt.ylabel('Global LHCb X axis [mm]')\n",
    "\n",
    "    plt.legend(loc='best', frameon=True)\n",
    "    plt.title(scenario)\n",
    "    mpt.savefig(join(outdir, f'x_vs_z_M00_M01_{scenario}.pgf.png'))"
   ]
  },
  {
   "cell_type": "code",
   "execution_count": null,
   "metadata": {
    "collapsed": false
   },
   "outputs": [],
   "source": [
    "plt.figure(figsize=[12, 8], dpi=100)\n",
    "for scenario, c in zip(velo_geometry['global'], sns.color_palette('dark', len(velo_geometry['global']))):\n",
    "    for m_id in range(0, 1, 2):\n",
    "        assert m_id % 2 == 0\n",
    "        # Draw all ladders for this module\n",
    "        for vp_side in vp_sides:\n",
    "            for l_id in range(4):\n",
    "                ladder = velo_geometry['global'][scenario][\n",
    "                    f'/dd/Structure/LHCb/BeforeMagnetRegion/VP/{vp_side}/'\n",
    "                    f'Module{m_id:002d}WithSupport/Module{m_id:002d}/Ladder{l_id}'\n",
    "                ]\n",
    "                xs = [ladder[p][2] for p in points]\n",
    "                ys = [ladder[p][0] for p in points]\n",
    "                lines = plt.plot(xs, ys, label=[None, scenario][l_id == m_id == 0], lw=0.25, alpha=0.75, c=c)\n",
    "            # Increment the module id\n",
    "            m_id += 1\n",
    "\n",
    "# plt.gca().set_aspect('equal')\n",
    "plt.xlabel('Global LHCb Z axis [mm]')\n",
    "plt.ylabel('Global LHCb X axis [mm]')\n",
    "plt.gca().xaxis.set_minor_locator(MultipleLocator(1))\n",
    "plt.grid(b=True, which='minor', color='w', linestyle='--')\n",
    "\n",
    "plt.legend(loc='best', frameon=True)\n",
    "mpt.savefig(join(outdir, f'x_vs_z_M00_M01.pgf.png'))"
   ]
  },
  {
   "cell_type": "code",
   "execution_count": null,
   "metadata": {
    "collapsed": false
   },
   "outputs": [],
   "source": [
    "plt.figure(figsize=[12, 8], dpi=100)\n",
    "for scenario, c in zip(velo_geometry['global'], sns.color_palette('dark', len(velo_geometry['global']))):\n",
    "    for m_id in range(0, 1, 2):\n",
    "        assert m_id % 2 == 0\n",
    "        # Draw all ladders for this module\n",
    "        for vp_side in vp_sides:\n",
    "            for l_id in range(4):\n",
    "                ladder = velo_geometry['global'][scenario][\n",
    "                    f'/dd/Structure/LHCb/BeforeMagnetRegion/VP/{vp_side}/'\n",
    "                    f'Module{m_id:002d}WithSupport/Module{m_id:002d}/Ladder{l_id}'\n",
    "                ]\n",
    "                xs = [ladder[p][2] for p in points]\n",
    "                ys = [ladder[p][0] for p in points]\n",
    "                lines = plt.plot(xs, ys, label=[None, scenario][l_id == m_id == 0], lw=0.25, alpha=0.75, c=c)\n",
    "            # Increment the module id\n",
    "            m_id += 1\n",
    "\n",
    "# plt.gca().set_aspect('equal')\n",
    "plt.xlabel('Global LHCb Z axis [mm]')\n",
    "plt.ylabel('Global LHCb X axis [mm]')\n",
    "plt.gca().xaxis.set_minor_locator(MultipleLocator(0.1))\n",
    "plt.grid(b=True, which='minor', color='w', linestyle='--')\n",
    "\n",
    "plt.legend(loc='best', frameon=True)\n",
    "mpt.savefig(join(outdir, f'y_vs_z_M00_M01.pgf.png'))"
   ]
  },
  {
   "cell_type": "code",
   "execution_count": null,
   "metadata": {
    "collapsed": true
   },
   "outputs": [],
   "source": []
  }
 ],
 "metadata": {
  "anaconda-cloud": {},
  "kernelspec": {
   "display_name": "Python [conda env:analysis-3.6]",
   "language": "python",
   "name": "conda-env-analysis-3.6-py"
  },
  "language_info": {
   "codemirror_mode": {
    "name": "ipython",
    "version": 3
   },
   "file_extension": ".py",
   "mimetype": "text/x-python",
   "name": "python",
   "nbconvert_exporter": "python",
   "pygments_lexer": "ipython3",
   "version": "3.6.0"
  }
 },
 "nbformat": 4,
 "nbformat_minor": 1
}
